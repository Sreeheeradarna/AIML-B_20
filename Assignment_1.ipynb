{
  "nbformat": 4,
  "nbformat_minor": 0,
  "metadata": {
    "colab": {
      "provenance": [],
      "authorship_tag": "ABX9TyN0tNMS4Be2jO9gvZ0dPqKH",
      "include_colab_link": true
    },
    "kernelspec": {
      "name": "python3",
      "display_name": "Python 3"
    },
    "language_info": {
      "name": "python"
    }
  },
  "cells": [
    {
      "cell_type": "markdown",
      "metadata": {
        "id": "view-in-github",
        "colab_type": "text"
      },
      "source": [
        "<a href=\"https://colab.research.google.com/github/Sreeheeradarna/AIML-B_20/blob/main/Assignment_1.ipynb\" target=\"_parent\"><img src=\"https://colab.research.google.com/assets/colab-badge.svg\" alt=\"Open In Colab\"/></a>"
      ]
    },
    {
      "cell_type": "code",
      "execution_count": 1,
      "metadata": {
        "colab": {
          "base_uri": "https://localhost:8080/"
        },
        "id": "lWgKMB9hOcb-",
        "outputId": "613272ae-433b-44bd-df51-c063ae8d200e"
      },
      "outputs": [
        {
          "output_type": "stream",
          "name": "stdout",
          "text": [
            "list= [4, 5, 6, 7]\n",
            "array= [4 5 6 7]\n"
          ]
        }
      ],
      "source": [
        "import numpy as np\n",
        "list1=[4,5,6,7]\n",
        "array1=np.array(list1)\n",
        "print(\"list=\",list1)\n",
        "print(\"array=\",array1)"
      ]
    },
    {
      "cell_type": "code",
      "source": [
        "print(\"type of list1:\",type(list1))\n",
        "print(\"type of array1:\",type(array1))"
      ],
      "metadata": {
        "colab": {
          "base_uri": "https://localhost:8080/"
        },
        "id": "LDOsueleOxgA",
        "outputId": "e0c0d3c8-76a6-4fc9-a935-6693ec38455d"
      },
      "execution_count": 2,
      "outputs": [
        {
          "output_type": "stream",
          "name": "stdout",
          "text": [
            "type of list1: <class 'list'>\n",
            "type of array1: <class 'numpy.ndarray'>\n"
          ]
        }
      ]
    },
    {
      "cell_type": "code",
      "source": [
        "a1=[5,6,7,8]\n",
        "a2=[1,5,6,9]\n",
        "a=np.add(a1,a2)\n",
        "print(a)\n",
        "s=np.subtract(a1,a2)\n",
        "print(s)\n",
        "m=np.multiply(a1,a2)\n",
        "print(m)\n",
        "d=np.divide(a1,a2)\n",
        "print(d)\n",
        "p=np.power(a1,a2)\n",
        "print(p)\n",
        ""
      ],
      "metadata": {
        "colab": {
          "base_uri": "https://localhost:8080/"
        },
        "id": "qbpu9IKcO1_H",
        "outputId": "57ad76ff-2880-4498-e962-b9791cb33586"
      },
      "execution_count": 3,
      "outputs": [
        {
          "output_type": "stream",
          "name": "stdout",
          "text": [
            "[ 6 11 13 17]\n",
            "[ 4  1  1 -1]\n",
            "[ 5 30 42 72]\n",
            "[5.         1.2        1.16666667 0.88888889]\n",
            "[        5      7776    117649 134217728]\n"
          ]
        }
      ]
    },
    {
      "cell_type": "code",
      "source": [
        "n1=input()\n",
        "n2=input()\n",
        "n=np.char.add(n1,n2)\n",
        "print(n)"
      ],
      "metadata": {
        "colab": {
          "base_uri": "https://localhost:8080/"
        },
        "id": "QgeXZq09O8m3",
        "outputId": "3c7d9b04-e6b7-4f10-8392-85f0353d2d6a"
      },
      "execution_count": 4,
      "outputs": [
        {
          "output_type": "stream",
          "name": "stdout",
          "text": [
            "abc\n",
            "def\n",
            "abcdef\n"
          ]
        }
      ]
    },
    {
      "cell_type": "code",
      "source": [
        "#sin\n",
        "x=np.pi/4\n",
        "sin_result=np.sin(x)\n",
        "print(\"sin(x):\",sin_result)\n",
        "\n",
        "#log\n",
        "x=10\n",
        "log_result=np.log(x)\n",
        "print(\"log(x):\",log_result)\n",
        "\n",
        "#log2\n",
        "x=16\n",
        "log2_result=np.log2(x)\n",
        "print(\"log(x):\",log_result)\n",
        "\n",
        "#exp\n",
        "x=2\n",
        "exp_result=np.exp(x)\n",
        "print(\"exp(x):\",exp_result)"
      ],
      "metadata": {
        "colab": {
          "base_uri": "https://localhost:8080/"
        },
        "id": "7A84xRyNPJPS",
        "outputId": "38f7c6aa-a81f-4d9b-8b8a-3eded1695bec"
      },
      "execution_count": 5,
      "outputs": [
        {
          "output_type": "stream",
          "name": "stdout",
          "text": [
            "sin(x): 0.7071067811865475\n",
            "log(x): 2.302585092994046\n",
            "log(x): 2.302585092994046\n",
            "exp(x): 7.38905609893065\n"
          ]
        }
      ]
    }
  ]
}